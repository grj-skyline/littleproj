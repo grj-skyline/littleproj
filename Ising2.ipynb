{
 "cells": [
  {
   "cell_type": "code",
   "execution_count": 196,
   "metadata": {},
   "outputs": [],
   "source": [
    "from PIL import Image\n",
    "import numpy as np\n",
    "import random\n",
    "import matplotlib.pyplot as plt\n"
   ]
  },
  {
   "cell_type": "code",
   "execution_count": 521,
   "metadata": {},
   "outputs": [],
   "source": [
    "N = 100\n",
    "B = 0\n",
    "mu = 0.33 # g mu\n",
    "J = -0.2\n",
    "k = 0.01 # Boltzmann\n",
    "T = 30\n",
    "state = np.zeros((N)) # spins up ( 1 ) , down ( 0 )\n",
    "S = np.zeros((N),float)\n",
    "U = np.zeros(4999)\n",
    "#random.seed () # Seed generator\n",
    "t = np.linspace(0,4999,4999)\n",
    "\n",
    "def energy(S):\n",
    "    FirstTerm = 0\n",
    "    SecondTerm = 0 \n",
    "    \n",
    "    for i in range (0 , N-2): \n",
    "        FirstTerm += (-J)*S[i]* S[i + 1]\n",
    "        \n",
    "    for i in range (0 ,N-1):\n",
    "        SecondTerm += S[i]\n",
    "        SecondTerm *= -B*mu\n",
    "    return ( FirstTerm + SecondTerm ) \n",
    "\n",
    "\n"
   ]
  },
  {
   "cell_type": "code",
   "execution_count": 522,
   "metadata": {},
   "outputs": [
    {
     "name": "stdout",
     "output_type": "stream",
     "text": [
      "19.599999999999962\n"
     ]
    }
   ],
   "source": [
    "for b in range (0,N):\n",
    "    state[b] = -1\n",
    "    \n",
    "ES = energy(state)\n",
    "print(ES)"
   ]
  },
  {
   "cell_type": "code",
   "execution_count": 523,
   "metadata": {},
   "outputs": [
    {
     "data": {
      "text/plain": [
       "-10.94852793911476"
      ]
     },
     "execution_count": 523,
     "metadata": {},
     "output_type": "execute_result"
    }
   ],
   "source": [
    "AVR = np.zeros(0)\n",
    "\n",
    "for c in range (0,24994):\n",
    "    test = np.array(state)\n",
    "    r = int(N*random.random())\n",
    "    test[r] *= -1\n",
    "    ET = energy(test)\n",
    "    \n",
    "    p = np.exp ((ES-ET)/(k*T))\n",
    "    if p >= random.random():\n",
    "        \n",
    "        state = np.array(test)\n",
    "        ES = ET\n",
    "    if c%5 == 0:\n",
    "        U[int(c/5)] = ES\n",
    "        \n",
    "    if c > 20000:\n",
    "    #    if abs(U[int(c/5)]-U[int(c/5 - 1)])<0.01 and abs(U[int(c/5)]-U[int(c/5 - 2)])<0.01 and abs(U[int(c/5)]-U[int(c/5 - 3)])<0.01:\n",
    "        AVR = np.append(AVR,ES)\n",
    "            #print (AVR)\n",
    "            #print(c)\n",
    "sum(AVR)/len(AVR)        \n",
    "           "
   ]
  },
  {
   "cell_type": "code",
   "execution_count": 524,
   "metadata": {},
   "outputs": [
    {
     "data": {
      "image/png": "[encoded data removed]",
      "text/plain": [
       "<Figure size 432x288 with 1 Axes>"
      ]
     },
     "metadata": {
      "needs_background": "light"
     },
     "output_type": "display_data"
    },
    {
     "name": "stdout",
     "output_type": "stream",
     "text": [
      "[-1. -1.  1. -1. -1.  1. -1.  1. -1. -1.  1.  1. -1. -1.  1. -1. -1. -1.\n",
      "  1.  1. -1. -1.  1. -1.  1.  1. -1.  1. -1.  1. -1.  1. -1.  1. -1.  1.\n",
      "  1. -1.  1. -1.  1.  1. -1.  1. -1.  1. -1.  1. -1.  1. -1.  1. -1.  1.\n",
      " -1. -1.  1. -1. -1.  1. -1.  1. -1. -1.  1. -1.  1. -1.  1.  1. -1.  1.\n",
      " -1. -1.  1. -1.  1. -1.  1. -1.  1. -1. -1.  1.  1.  1. -1. -1.  1. -1.\n",
      "  1.  1. -1.  1. -1. -1.  1. -1.  1. -1.]\n"
     ]
    }
   ],
   "source": [
    "#print(U)\n",
    "plt.plot(t,U)\n",
    "plt.show()\n",
    "print(state)"
   ]
  },
  {
   "cell_type": "code",
   "execution_count": null,
   "metadata": {},
   "outputs": [],
   "source": [
    "\n"
   ]
  },
  {
   "cell_type": "code",
   "execution_count": null,
   "metadata": {},
   "outputs": [],
   "source": []
  },
  {
   "cell_type": "code",
   "execution_count": null,
   "metadata": {},
   "outputs": [],
   "source": []
  }
 ],
 "metadata": {
  "kernelspec": {
   "display_name": "Python 3",
   "language": "python",
   "name": "python3"
  },
  "language_info": {
   "codemirror_mode": {
    "name": "ipython",
    "version": 3
   },
   "file_extension": ".py",
   "mimetype": "text/x-python",
   "name": "python",
   "nbconvert_exporter": "python",
   "pygments_lexer": "ipython3",
   "version": "3.7.1"
  }
 },
 "nbformat": 4,
 "nbformat_minor": 2
}
