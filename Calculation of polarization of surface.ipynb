{
 "cells": [
  {
   "cell_type": "code",
   "execution_count": 2,
   "metadata": {},
   "outputs": [],
   "source": [
    "import numpy as np\n",
    "import numpy.matlib "
   ]
  },
  {
   "cell_type": "code",
   "execution_count": 6,
   "metadata": {},
   "outputs": [],
   "source": [
    "xi0 = 0\n",
    "\n",
    "z = 0\n",
    "for i in range(-20,20):\n",
    "    \n",
    "    for j in range(-20,20):\n",
    "        if z==0 and i==0 and j==0:\n",
    "            continue\n",
    "        else:\n",
    "            x = i\n",
    "            y = j\n",
    "            xi0 = xi0 +  (2*z*z-x*x-y*y)/((x*x+y*y+z*z)**(5/2))\n",
    "            \n",
    "            "
   ]
  },
  {
   "cell_type": "code",
   "execution_count": 7,
   "metadata": {},
   "outputs": [],
   "source": [
    "xi1 = 0\n",
    "\n",
    "z = 1\n",
    "for i in range(-20,20):\n",
    "    \n",
    "    for j in range(-20,20):\n",
    "        if z==0 and i==0 and j==0:\n",
    "            continue\n",
    "        else:\n",
    "            x = i\n",
    "            y = j\n",
    "            xi1 = xi1 +  (2*z*z-x*x-y*y)/((x*x+y*y+z*z)**(5/2))\n",
    "            "
   ]
  },
  {
   "cell_type": "code",
   "execution_count": 8,
   "metadata": {},
   "outputs": [
    {
     "name": "stdout",
     "output_type": "stream",
     "text": [
      "xi0 =  -8.750631751852916\n",
      "xi1 =  0.609570688419965\n"
     ]
    }
   ],
   "source": [
    "print('xi0 = ',xi0)\n",
    "print('xi1 = ',xi1)"
   ]
  },
  {
   "cell_type": "code",
   "execution_count": 77,
   "metadata": {},
   "outputs": [],
   "source": [
    "p = np.matlib.zeros((25,1))\n",
    "Eex = np.matlib.zeros((25,1))\n",
    "M = np.matlib.zeros((25,25))\n",
    "\n",
    "alpha1 = 1\n",
    "alpha2 = 1\n",
    "\n",
    "for i in range (0,25):\n",
    "    if i < 20:\n",
    "        Eex[i] = 5*alpha1\n",
    "    else:\n",
    "        Eex[i] = 5*np.exp(0.1*(-i+19))*alpha2\n",
    "    \n",
    "for i in range(0,25):\n",
    "    for j in range(0,25):\n",
    "        if i < 20:\n",
    "            if i == j:\n",
    "                M[i,j] = 1-alpha1*xi0\n",
    "            elif i-j == 1 or i-j == -1:\n",
    "                M[i,j] = -1*alpha1*xi1\n",
    "            else:\n",
    "                M[i,j] = 0\n",
    "        elif i > 21:\n",
    "            if i == j:\n",
    "                M[i,j] = 1-alpha2*xi0\n",
    "            elif i-j == 1 or i-j == -1:\n",
    "                M[i,j] = -1*alpha2*xi1\n",
    "        elif i == 21:\n",
    "            if i == j:\n",
    "                M[i,j] = 1-alpha2*xi0\n",
    "            elif i-j == -1:\n",
    "                M[i,j] = -1*alpha2*xi1\n",
    "            elif i-j == 1:\n",
    "                M[i,j] = -1*alpha1*xi1\n",
    "        elif i == 20:\n",
    "            if i == j:\n",
    "                M[i,j] = 1-alpha2*xi0\n",
    "            elif i-j == -1:\n",
    "                M[i,j] = -1*alpha1*xi1\n",
    "            elif i-j == 1:\n",
    "                M[i,j] = -1*alpha1*xi1"
   ]
  },
  {
   "cell_type": "code",
   "execution_count": 78,
   "metadata": {},
   "outputs": [],
   "source": [
    "#print(Eex)\n",
    "#print(p)\n",
    "#print(M)"
   ]
  },
  {
   "cell_type": "code",
   "execution_count": 79,
   "metadata": {},
   "outputs": [],
   "source": [
    "p = np.linalg.solve(M,Eex)\n"
   ]
  },
  {
   "cell_type": "code",
   "execution_count": 80,
   "metadata": {},
   "outputs": [
    {
     "name": "stdout",
     "output_type": "stream",
     "text": [
      "[[0.53751253]\n",
      " [0.56575205]\n",
      " [0.56723569]\n",
      " [0.56731363]\n",
      " [0.56731773]\n",
      " [0.56731794]\n",
      " [0.56731796]\n",
      " [0.56731796]\n",
      " [0.56731796]\n",
      " [0.56731796]\n",
      " [0.56731796]\n",
      " [0.56731796]\n",
      " [0.56731796]\n",
      " [0.56731796]\n",
      " [0.56731795]\n",
      " [0.56731793]\n",
      " [0.56731755]\n",
      " [0.56731015]\n",
      " [0.56716931]\n",
      " [0.56448867]\n",
      " [0.51346513]\n",
      " [0.46474178]\n",
      " [0.42048016]\n",
      " [0.37964757]\n",
      " [0.32793025]]\n"
     ]
    }
   ],
   "source": [
    "print(p)"
   ]
  },
  {
   "cell_type": "code",
   "execution_count": null,
   "metadata": {},
   "outputs": [],
   "source": []
  },
  {
   "cell_type": "code",
   "execution_count": null,
   "metadata": {},
   "outputs": [],
   "source": []
  }
 ],
 "metadata": {
  "kernelspec": {
   "display_name": "Python 3",
   "language": "python",
   "name": "python3"
  },
  "language_info": {
   "codemirror_mode": {
    "name": "ipython",
    "version": 3
   },
   "file_extension": ".py",
   "mimetype": "text/x-python",
   "name": "python",
   "nbconvert_exporter": "python",
   "pygments_lexer": "ipython3",
   "version": "3.7.6"
  }
 },
 "nbformat": 4,
 "nbformat_minor": 4
}
