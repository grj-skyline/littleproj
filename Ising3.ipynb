{
 "cells": [
  {
   "cell_type": "code",
   "execution_count": 2,
   "metadata": {},
   "outputs": [],
   "source": [
    "from PIL import Image\n",
    "import numpy as np\n",
    "import random\n",
    "import matplotlib.pyplot as plt"
   ]
  },
  {
   "cell_type": "code",
   "execution_count": 291,
   "metadata": {},
   "outputs": [],
   "source": [
    "N = 100\n",
    "B = 0\n",
    "mu = 0.33 # g mu\n",
    "J = 2\n",
    "k = 1 # Boltzmann\n",
    "T = 30\n",
    "state = np.zeros((N)) # spins up ( 1 ) , down ( 0 )\n",
    "S = np.zeros((N),float)\n",
    "U = np.zeros(999)\n",
    "#random.seed () # Seed generator\n",
    "t = np.linspace(0,999,999)\n",
    "\n",
    "\n",
    "\n",
    "def energy(S):\n",
    "    FirstTerm = 0\n",
    "    SecondTerm = 0 \n",
    "    \n",
    "    for i in range (0 , N): \n",
    "        \n",
    "        if i == 99:\n",
    "            FirstTerm +=(-J)*S[i]*S[0]\n",
    "        else:\n",
    "            FirstTerm += (-J)*S[i]* S[i + 1]\n",
    "    for i in range (0 ,N-1):\n",
    "        SecondTerm += S[i]\n",
    "        SecondTerm *= -B*mu\n",
    "    return ( FirstTerm + SecondTerm ) \n",
    "\n"
   ]
  },
  {
   "cell_type": "code",
   "execution_count": 292,
   "metadata": {},
   "outputs": [
    {
     "name": "stdout",
     "output_type": "stream",
     "text": [
      "-200.0\n"
     ]
    }
   ],
   "source": [
    "for b in range (0,N):\n",
    "    state[b] = -1\n",
    "    \n",
    "ES = energy(state)\n",
    "print(ES)\n"
   ]
  },
  {
   "cell_type": "code",
   "execution_count": 293,
   "metadata": {},
   "outputs": [
    {
     "name": "stdout",
     "output_type": "stream",
     "text": [
      "avr: -200.0\n",
      "mag: 100.0\n",
      "------------------------\n",
      "avr: -200.0\n",
      "mag: 100.0\n",
      "------------------------\n",
      "avr: -200.0\n",
      "mag: 100.0\n",
      "------------------------\n",
      "avr: -200.0\n",
      "mag: 100.0\n",
      "------------------------\n",
      "avr: -200.0\n",
      "mag: 100.0\n",
      "------------------------\n",
      "avr: -200.0\n",
      "mag: 100.0\n",
      "------------------------\n",
      "avr: -198.85714285714286\n",
      "mag: 95.30628686519925\n",
      "------------------------\n",
      "avr: -197.92346424974824\n",
      "mag: 87.49320241691844\n",
      "------------------------\n",
      "avr: -196.16336578270113\n",
      "mag: 82.08548729998881\n",
      "------------------------\n",
      "avr: -194.49909365558912\n",
      "mag: 75.23907351460221\n",
      "------------------------\n",
      "avr: -191.1841069303305\n",
      "mag: 68.89096402087338\n",
      "------------------------\n",
      "avr: -188.40147700570662\n",
      "mag: 65.96727089627392\n",
      "------------------------\n",
      "avr: -186.07297234487567\n",
      "mag: 61.676194902781006\n",
      "------------------------\n",
      "avr: -182.53661343691556\n",
      "mag: 57.65616458063588\n",
      "------------------------\n",
      "avr: -179.90788855320577\n",
      "mag: 54.490231621349444\n",
      "------------------------\n",
      "avr: -177.04279959718025\n",
      "mag: 52.256419939577036\n",
      "------------------------\n",
      "avr: -174.09110834666194\n",
      "mag: 50.01018896984776\n",
      "------------------------\n",
      "avr: -171.83663421729887\n",
      "mag: 48.07026966543583\n",
      "------------------------\n",
      "avr: -169.36110669422803\n",
      "mag: 46.22356495468278\n",
      "------------------------\n",
      "avr: -166.8660624370594\n",
      "mag: 44.93514602215509\n",
      "------------------------\n",
      "avr: -164.10223948592528\n",
      "mag: 43.73308396873352\n",
      "------------------------\n",
      "avr: -161.4933626293143\n",
      "mag: 42.51066556806738\n",
      "------------------------\n",
      "avr: -158.62585927580017\n",
      "mag: 40.923595604010686\n",
      "------------------------\n",
      "avr: -156.17858341725412\n",
      "mag: 39.87680429674387\n",
      "------------------------\n",
      "avr: -154.08209466263847\n",
      "mag: 38.78316213494461\n",
      "------------------------\n",
      "avr: -151.35548841893254\n",
      "mag: 38.02416918429003\n",
      "------------------------\n",
      "avr: -149.1262541494163\n",
      "mag: 37.13632464287046\n",
      "------------------------\n",
      "avr: -147.14285714285714\n",
      "mag: 36.12890231621349\n",
      "------------------------\n",
      "avr: -144.96648956488522\n",
      "mag: 35.44883147550092\n",
      "------------------------\n",
      "avr: -142.6371265525344\n",
      "mag: 34.700906344410875\n",
      "------------------------\n",
      "avr: -140.38059968164245\n",
      "mag: 33.823084169834\n",
      "------------------------\n",
      "avr: -138.3854481369587\n",
      "mag: 33.18794058408862\n",
      "------------------------\n",
      "avr: -136.65037077725898\n",
      "mag: 32.491318013976624\n",
      "------------------------\n",
      "avr: -134.61809134529946\n",
      "mag: 31.81831645044725\n",
      "------------------------\n",
      "avr: -132.87043590850237\n",
      "mag: 31.19027478060711\n",
      "------------------------\n",
      "avr: -130.85643952109208\n",
      "mag: 30.671925702137184\n",
      "------------------------\n",
      "avr: -129.0699763207316\n",
      "mag: 30.14621267793473\n",
      "------------------------\n",
      "avr: -127.35336831504743\n",
      "mag: 29.84390735146022\n",
      "------------------------\n",
      "avr: -125.58556046169339\n",
      "mag: 29.3685025950887\n",
      "------------------------\n",
      "avr: -124.0036253776435\n",
      "mag: 28.957351460221552\n",
      "------------------------\n",
      "avr: -122.59317662663031\n",
      "mag: 28.478471249969296\n",
      "------------------------\n",
      "avr: -120.99784203711697\n",
      "mag: 28.051119742962644\n",
      "------------------------\n",
      "avr: -119.3270100002342\n",
      "mag: 27.633761914798942\n",
      "------------------------\n",
      "avr: -117.9496475327291\n",
      "mag: 27.185113979675915\n",
      "------------------------\n",
      "avr: -116.42707843795458\n",
      "mag: 26.822826451829474\n",
      "------------------------\n",
      "avr: -114.89224572004028\n",
      "mag: 26.563728709663295\n",
      "------------------------\n",
      "avr: -113.44946540678366\n",
      "mag: 26.195281866683807\n",
      "------------------------\n",
      "avr: -112.21164820409534\n",
      "mag: 25.838116817724067\n",
      "------------------------\n",
      "avr: -110.90038432291345\n",
      "mag: 25.54288180529009\n",
      "------------------------\n",
      "avr: -109.71536757301108\n",
      "mag: 25.28725075528701\n",
      "------------------------\n"
     ]
    }
   ],
   "source": [
    "AVR = np.zeros(0)\n",
    "\n",
    "MAG = np.zeros(0)\n",
    "\n",
    "vt = np.zeros(0)\n",
    "\n",
    "mt = np.zeros(0)\n",
    "\n",
    "anal = np.zeros(0)\n",
    "\n",
    "\n",
    "for T in np.linspace(0.001,8,50):\n",
    "    for c in range (0,4994):\n",
    "        test = np.array(state)\n",
    "        r =  np.random.randint(0, 100)\n",
    "\n",
    "        test[r] *= -1\n",
    "        ET = energy(test)\n",
    "\n",
    "        p = np.exp((ES-ET)/(k*T))\n",
    "        if p >= random.uniform(0,1):\n",
    "\n",
    "            state = np.array(test)\n",
    "            ES = ET\n",
    "        if c%5 == 0:\n",
    "            U[int(c/5)] = ES\n",
    "\n",
    "        if c > 4000:\n",
    "        #    if abs(U[int(c/5)]-U[int(c/5 - 1)])<0.01 and abs(U[int(c/5)]-U[int(c/5 - 2)])<0.01 and abs(U[int(c/5)]-U[int(c/5 - 3)])<0.01:\n",
    "            AVR = np.append(AVR,ES)\n",
    "            MAG = np.append(MAG,abs(sum(state)))\n",
    "                #print (AVR)\n",
    "                #print(c)              \n",
    "    avr = sum(AVR)/len(AVR)\n",
    "    vt = np.append(vt,avr)\n",
    "    mag = sum(MAG)/len(MAG)\n",
    "    mt = np.append(mt, mag)\n",
    "    print('avr:',avr) \n",
    "    print('mag:',mag)\n",
    "    print('------------------------')      \n",
    "    anal= np.append(anal,-N*J*np.tanh(2*J/(k*T)))"
   ]
  },
  {
   "cell_type": "code",
   "execution_count": 296,
   "metadata": {
    "scrolled": true
   },
   "outputs": [
    {
     "data": {
      "image/png": "[encoded data removed]",
      "text/plain": [
       "<Figure size 432x288 with 1 Axes>"
      ]
     },
     "metadata": {
      "needs_background": "light"
     },
     "output_type": "display_data"
    }
   ],
   "source": [
    "plt.plot(np.linspace(0.001,8,50),vt) \n",
    "plt.plot(np.linspace(0.001,8,50),anal)\n",
    "plt.show()"
   ]
  },
  {
   "cell_type": "code",
   "execution_count": 298,
   "metadata": {},
   "outputs": [
    {
     "data": {
      "image/png": "[encoded data removed]",
      "text/plain": [
       "<Figure size 432x288 with 1 Axes>"
      ]
     },
     "metadata": {
      "needs_background": "light"
     },
     "output_type": "display_data"
    }
   ],
   "source": [
    "plt.plot(np.linspace(0.001,8,50),mt/100) \n",
    "plt.show()"
   ]
  },
  {
   "cell_type": "code",
   "execution_count": null,
   "metadata": {},
   "outputs": [],
   "source": []
  },
  {
   "cell_type": "code",
   "execution_count": null,
   "metadata": {},
   "outputs": [],
   "source": []
  }
 ],
 "metadata": {
  "kernelspec": {
   "display_name": "Python 3",
   "language": "python",
   "name": "python3"
  },
  "language_info": {
   "codemirror_mode": {
    "name": "ipython",
    "version": 3
   },
   "file_extension": ".py",
   "mimetype": "text/x-python",
   "name": "python",
   "nbconvert_exporter": "python",
   "pygments_lexer": "ipython3",
   "version": "3.7.1"
  }
 },
 "nbformat": 4,
 "nbformat_minor": 2
}
