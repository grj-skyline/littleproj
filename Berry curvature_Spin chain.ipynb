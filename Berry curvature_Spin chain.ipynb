{
 "cells": [
  {
   "cell_type": "code",
   "execution_count": 1,
   "metadata": {},
   "outputs": [],
   "source": [
    "import numpy as np\n",
    "import matplotlib as plt\n",
    "from qutip import *\n",
    "import time"
   ]
  },
  {
   "cell_type": "code",
   "execution_count": 8,
   "metadata": {},
   "outputs": [],
   "source": [
    "def ExpectofSpinChain(N,J,hx,hy,hz,time_list):\n",
    "    #psi0 is the initial state\n",
    "    #N(int) is the number of spins\n",
    "    #J(int) is the interacting strength\n",
    "    #{hx,hy,hz}(string) is the strength of the magnetic field and input as string type.\n",
    "    #time_list(list[]) define the time list for solving SE equantion\n",
    "    si = qeye(2)\n",
    "    sx = sigmax()\n",
    "    sy = sigmay()\n",
    "    sz = sigmaz()\n",
    "    #define some abbr\n",
    "    sx_list = []\n",
    "    sy_list = []\n",
    "    sz_list = []\n",
    "    for n in range(N):\n",
    "        op_list = []\n",
    "        for m in range(N):\n",
    "            op_list.append(si)\n",
    "\n",
    "        op_list[n] = sx\n",
    "        sx_list.append(tensor(op_list))\n",
    "\n",
    "        op_list[n] = sy\n",
    "        sy_list.append(tensor(op_list))\n",
    "\n",
    "        op_list[n] = sz\n",
    "        sz_list.append(tensor(op_list))\n",
    "    #construct a Operator List for convenience.\n",
    "    H0 = 0\n",
    "    for n in range(N-1):\n",
    "        H0 += -  J * sx_list[n] * sx_list[n+1]\n",
    "        H0 += -  J * sy_list[n] * sy_list[n+1]\n",
    "        H0 += -  J * sz_list[n] * sz_list[n+1]\n",
    "    #construct the static part of Hamiltonian\n",
    "    H_dynamic_x = 0\n",
    "    for n in range(N):\n",
    "        H_dynamic_x += -  sx_list[n]\n",
    "    H_dynamic_y = 0\n",
    "    for n in range(N):\n",
    "        H_dynamic_y += -  sy_list[n]\n",
    "    H_dynamic_z = 0\n",
    "    for n in range(N):\n",
    "        H_dynamic_z += -  sz_list[n]\n",
    "    #construct the dynamical parts of Hamitonian\n",
    "    psi0 = (H0 + H_dynamic_z).groundstate()[1]\n",
    "    #construct the initial state\n",
    "    H = [H0,[H_dynamic_x,hx],[H_dynamic_y,hy],[H_dynamic_z,hz]]\n",
    "    result = mesolve(H,psi0,time_list,[],sy_list)\n",
    "    return result.expect"
   ]
  },
  {
   "cell_type": "code",
   "execution_count": 9,
   "metadata": {},
   "outputs": [
    {
     "name": "stdout",
     "output_type": "stream",
     "text": [
      "53.44702696800232\n"
     ]
    }
   ],
   "source": [
    "start_time = time.time()\n",
    "def hx(t,args):\n",
    "    return np.sin(0.01*t*t/(2*np.pi))\n",
    "def hz(t,args):\n",
    "    return np.cos(0.01*t*t/(2*np.pi))\n",
    "def hy(t,args):\n",
    "    return 0\n",
    "# the configuration of magnetic field,fixed v = 0.1\n",
    "N = 6\n",
    "step_of_J = 80\n",
    "J =  np.linspace(-1.6,0.1,step_of_J)\n",
    "step = 100\n",
    "# the step of time list\n",
    "t_list = np.linspace(0,np.pi/0.1,step)\n",
    "my = []\n",
    "for i in range(step_of_J):\n",
    "    temp = 0\n",
    "    for n in range(N):\n",
    "        temp += ExpectofSpinChain(N,J[i],hx,hy,hz,t_list)[n][step-1]/0.1\n",
    "    my.append(temp)\n",
    "end_time = time.time()\n",
    "print (end_time - start_time)"
   ]
  },
  {
   "cell_type": "code",
   "execution_count": null,
   "metadata": {},
   "outputs": [],
   "source": []
  },
  {
   "cell_type": "code",
   "execution_count": 10,
   "metadata": {},
   "outputs": [
    {
     "data": {
      "image/png": "[encoded data removed]",
      "text/plain": [
       "<Figure size 1044x576 with 1 Axes>"
      ]
     },
     "metadata": {
      "needs_background": "light"
     },
     "output_type": "display_data"
    }
   ],
   "source": [
    "fig , ax = plt.pyplot.subplots()\n",
    "ax.clear()\n",
    "ax.plot(J,my,'o-')\n",
    "#ax.plot(J,my_1,'o--')\n",
    "ax.set_xlabel('J(Strength of Interacition)')\n",
    "ax.set_ylabel('${F_{\\phi \\theta }}$')\n",
    "ax.set_title('The Berry Curvature in Heisenberg Spin Chain')\n",
    "\n",
    "#ax.legend(('$N=10$','$N=9$'))\n",
    "fig.set_size_inches(14.5, 8)\n"
   ]
  },
  {
   "cell_type": "code",
   "execution_count": null,
   "metadata": {},
   "outputs": [],
   "source": []
  },
  {
   "cell_type": "code",
   "execution_count": null,
   "metadata": {},
   "outputs": [],
   "source": []
  }
 ],
 "metadata": {
  "kernelspec": {
   "display_name": "Python 3",
   "language": "python",
   "name": "python3"
  },
  "language_info": {
   "codemirror_mode": {
    "name": "ipython",
    "version": 3
   },
   "file_extension": ".py",
   "mimetype": "text/x-python",
   "name": "python",
   "nbconvert_exporter": "python",
   "pygments_lexer": "ipython3",
   "version": "3.7.6"
  }
 },
 "nbformat": 4,
 "nbformat_minor": 2
}
