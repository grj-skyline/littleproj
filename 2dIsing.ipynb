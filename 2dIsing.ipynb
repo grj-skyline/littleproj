{
 "cells": [
  {
   "cell_type": "code",
   "execution_count": 53,
   "metadata": {},
   "outputs": [],
   "source": [
    "from PIL import Image\n",
    "import numpy as np\n",
    "import random\n",
    "import matplotlib.pyplot as plt\n",
    "import os"
   ]
  },
  {
   "cell_type": "code",
   "execution_count": 79,
   "metadata": {},
   "outputs": [],
   "source": [
    "N = 100\n",
    "B = 0\n",
    "mu = 0.33 # g mu\n",
    "J = 2\n",
    "k = 1 # Boltzmann\n",
    "T = 30\n",
    "state = np.zeros([N,N]) # spins up ( 1 ) , down ( 0 )\n",
    "S = np.zeros(([N,N]),float)\n",
    "U = np.zeros(999)\n",
    "#random.seed () # Seed generator\n",
    "t = np.linspace(0,999,999)\n",
    "\n",
    "\n",
    "def energy(S):\n",
    "    FirstTerm = 0\n",
    "    SecondTerm = 0 \n",
    "    \n",
    "    for i in range (0,N): \n",
    "        for j in range(0,N):\n",
    "            if j == 99:\n",
    "                if i == 99:\n",
    "                    FirstTerm +=(-J)*(S[i,j]*S[0,j]+S[i,j]*S[i,0])\n",
    "                else:\n",
    "                    FirstTerm += (-J)*(S[i,j]*S[i,0]+S[i,j]*S[i+1,j])\n",
    "            else:\n",
    "                if i == 99:\n",
    "                    FirstTerm +=(-J)*(S[i,j]*S[0,j]+S[i,j]*S[i,j+1])\n",
    "                else:\n",
    "                    FirstTerm +=(-J)*(S[i,j]*S[i+1,j]+S[i,j]*S[i,j+1])\n",
    "                \n",
    "    for i in range (0 ,N-1):\n",
    "        SecondTerm += S[i,j]\n",
    "        SecondTerm *= -B*mu\n",
    "    return ( FirstTerm + SecondTerm ) "
   ]
  },
  {
   "cell_type": "code",
   "execution_count": 80,
   "metadata": {},
   "outputs": [
    {
     "name": "stdout",
     "output_type": "stream",
     "text": [
      "-40000.0\n"
     ]
    }
   ],
   "source": [
    "for b in range (0,N):\n",
    "    state[b] = -1\n",
    "    \n",
    "ES = energy(state)\n",
    "print(ES)\n"
   ]
  },
  {
   "cell_type": "code",
   "execution_count": 81,
   "metadata": {},
   "outputs": [
    {
     "name": "stdout",
     "output_type": "stream",
     "text": [
      "0.0 % Energy: -39984.0\n",
      "1.0 % Energy: -39056.0\n",
      "2.0 % Energy: -38192.0\n",
      "3.0 % Energy: -37296.0\n",
      "4.0 % Energy: -36464.0\n",
      "5.0 % Energy: -35632.0\n",
      "6.0 % Energy: -34816.0\n",
      "7.0 % Energy: -34048.0\n",
      "8.0 % Energy: -33304.0\n",
      "9.0 % Energy: -32624.0\n",
      "10.0 % Energy: -31944.0\n",
      "11.0 % Energy: -31208.0\n",
      "12.0 % Energy: -30576.0\n",
      "13.0 % Energy: -30040.0\n",
      "14.0 % Energy: -29440.0\n",
      "15.0 % Energy: -28856.0\n",
      "16.0 % Energy: -28256.0\n",
      "17.0 % Energy: -27528.0\n",
      "18.0 % Energy: -26768.0\n",
      "19.0 % Energy: -26208.0\n",
      "20.0 % Energy: -25464.0\n",
      "21.0 % Energy: -24848.0\n",
      "22.0 % Energy: -24232.0\n",
      "23.0 % Energy: -23656.0\n",
      "24.0 % Energy: -23176.0\n",
      "25.0 % Energy: -22656.0\n",
      "26.0 % Energy: -22312.0\n",
      "27.0 % Energy: -21808.0\n",
      "28.0 % Energy: -21336.0\n",
      "29.0 % Energy: -20992.0\n",
      "30.0 % Energy: -20480.0\n",
      "31.0 % Energy: -20136.0\n",
      "32.0 % Energy: -19752.0\n",
      "33.0 % Energy: -19360.0\n",
      "34.0 % Energy: -18960.0\n",
      "35.0 % Energy: -18592.0\n",
      "36.0 % Energy: -18208.0\n",
      "37.0 % Energy: -17760.0\n",
      "38.0 % Energy: -17376.0\n",
      "39.0 % Energy: -16872.0\n",
      "40.0 % Energy: -16608.0\n",
      "41.0 % Energy: -16248.0\n",
      "42.0 % Energy: -16048.0\n",
      "43.0 % Energy: -15704.0\n",
      "44.0 % Energy: -15376.0\n",
      "45.0 % Energy: -15032.0\n",
      "46.0 % Energy: -14704.0\n",
      "47.0 % Energy: -14344.0\n",
      "48.0 % Energy: -14176.0\n",
      "49.0 % Energy: -13952.0\n",
      "50.0 % Energy: -13600.0\n",
      "51.0 % Energy: -13376.0\n",
      "52.0 % Energy: -13072.0\n",
      "53.0 % Energy: -12808.0\n",
      "54.0 % Energy: -12592.0\n",
      "55.0 % Energy: -12448.0\n",
      "56.0 % Energy: -12240.0\n",
      "57.0 % Energy: -12096.0\n",
      "58.0 % Energy: -11840.0\n",
      "59.0 % Energy: -11672.0\n",
      "60.0 % Energy: -11512.0\n",
      "61.0 % Energy: -11384.0\n",
      "62.0 % Energy: -11256.0\n",
      "63.0 % Energy: -11088.0\n",
      "64.0 % Energy: -11072.0\n",
      "65.0 % Energy: -10952.0\n",
      "66.0 % Energy: -10624.0\n",
      "67.0 % Energy: -10424.0\n",
      "68.0 % Energy: -10224.0\n",
      "69.0 % Energy: -10080.0\n",
      "70.0 % Energy: -9752.0\n",
      "71.0 % Energy: -9624.0\n",
      "72.0 % Energy: -9552.0\n",
      "73.0 % Energy: -9376.0\n",
      "74.0 % Energy: -9232.0\n",
      "75.0 % Energy: -9136.0\n",
      "76.0 % Energy: -9048.0\n",
      "77.0 % Energy: -8968.0\n",
      "78.0 % Energy: -8840.0\n",
      "79.0 % Energy: -8704.0\n",
      "80.0 % Energy: -8632.0\n",
      "81.0 % Energy: -8448.0\n",
      "82.0 % Energy: -8272.0\n",
      "83.0 % Energy: -8104.0\n",
      "84.0 % Energy: -8024.0\n",
      "85.0 % Energy: -7864.0\n",
      "86.0 % Energy: -7672.0\n",
      "87.0 % Energy: -7592.0\n",
      "88.0 % Energy: -7592.0\n",
      "89.0 % Energy: -7480.0\n",
      "90.0 % Energy: -7400.0\n",
      "91.0 % Energy: -7264.0\n",
      "92.0 % Energy: -7168.0\n",
      "93.0 % Energy: -7040.0\n",
      "94.0 % Energy: -6896.0\n",
      "95.0 % Energy: -6768.0\n",
      "96.0 % Energy: -6704.0\n",
      "97.0 % Energy: -6512.0\n",
      "98.0 % Energy: -6464.0\n",
      "99.0 % Energy: -6376.0\n"
     ]
    }
   ],
   "source": [
    "#for T in np.linspace(0.001,8,50):\n",
    "for c in range (0,10000):\n",
    "    test = np.array(state)\n",
    "    r1 = np.random.randint(0, 99)\n",
    "    r2 = np.random.randint(0, 99)\n",
    "\n",
    "    test[r1,r2] *= -1\n",
    "    ET = energy(test)\n",
    "\n",
    "    p = np.exp((ES-ET)/(k*T))\n",
    "    \n",
    "    if p >= random.uniform(0,1):\n",
    "        state = np.array(test)\n",
    "        ES = ET\n",
    "    \n",
    "    if c%100 == 0:\n",
    "        print(c/100,\"%\",\"Energy:\",ES)\n",
    "    "
   ]
  },
  {
   "cell_type": "code",
   "execution_count": 82,
   "metadata": {},
   "outputs": [
    {
     "name": "stdout",
     "output_type": "stream",
     "text": [
      "Magnetization: -3090.0\n",
      "Internal Energy: -6192.0\n"
     ]
    }
   ],
   "source": [
    "sum1 =sum(sum(state))\n",
    "print('Magnetization:',sum1)\n",
    "print('Internal Energy:',ES)"
   ]
  },
  {
   "cell_type": "code",
   "execution_count": 84,
   "metadata": {},
   "outputs": [],
   "source": [
    "img = Image.new(\"RGB\",(500,500),(0,0,0))\n",
    "pixTuple1 = (0,0,0)\n",
    "pixTuple2 = (255,255,255)\n",
    "\n",
    "\n",
    "for x in range(0,99):\n",
    "    for y in range(0,99):\n",
    "        if state[x,y] == 1:\n",
    "            for d in range(5*x,5*x+5):\n",
    "                for e in range(5*y,5*y+5):\n",
    "                    img.putpixel((d,e),pixTuple2)\n",
    "        if state[x,y] == -1:\n",
    "            for d in range(5*x,5*x+5):\n",
    "                for e in range(5*y,5*y+5):\n",
    "                    img.putpixel((d,e),pixTuple1)\n",
    "    \n",
    "img.save(\"2d.png\")"
   ]
  },
  {
   "cell_type": "code",
   "execution_count": null,
   "metadata": {},
   "outputs": [],
   "source": []
  }
 ],
 "metadata": {
  "kernelspec": {
   "display_name": "Python 3",
   "language": "python",
   "name": "python3"
  },
  "language_info": {
   "codemirror_mode": {
    "name": "ipython",
    "version": 3
   },
   "file_extension": ".py",
   "mimetype": "text/x-python",
   "name": "python",
   "nbconvert_exporter": "python",
   "pygments_lexer": "ipython3",
   "version": "3.7.1"
  }
 },
 "nbformat": 4,
 "nbformat_minor": 2
}
