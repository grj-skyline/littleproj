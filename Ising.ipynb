{
 "cells": [
  {
   "cell_type": "code",
   "execution_count": 18,
   "metadata": {},
   "outputs": [],
   "source": [
    "from PIL import Image\n",
    "import numpy as np\n",
    "import random\n",
    "import matplotlib.pyplot as plt"
   ]
  },
  {
   "cell_type": "code",
   "execution_count": 31,
   "metadata": {},
   "outputs": [],
   "source": [
    "N = 100\n",
    "B = 0\n",
    "mu = 0.33 # g mu\n",
    "J = 0.2\n",
    "k = 0.01 # Boltzmann\n",
    "T = 50\n",
    "state = np.zeros((N)) # spins up ( 1 ) , down ( 0 )\n",
    "S = np.zeros((N),float)\n",
    "U = np.zeros(99)\n",
    "#random.seed () # Seed generator\n",
    "t = np.linspace(0,99,99)\n",
    "\n",
    "def energy(S):\n",
    "    FirstTerm = 0\n",
    "    SecondTerm = 0 \n",
    "    \n",
    "    for i in range (0 , N-2): \n",
    "        FirstTerm += (-J)*S[i]* S[i + 1]\n",
    "        \n",
    "    for i in range (0 ,N-1):\n",
    "        SecondTerm += S[i]\n",
    "        SecondTerm *= -B*mu\n",
    "    return ( FirstTerm + SecondTerm ) \n",
    "\n"
   ]
  },
  {
   "cell_type": "code",
   "execution_count": 32,
   "metadata": {},
   "outputs": [
    {
     "name": "stdout",
     "output_type": "stream",
     "text": [
      "-19.599999999999962\n"
     ]
    }
   ],
   "source": [
    "for b in range (0,N):\n",
    "    state[b] = -1\n",
    "    \n",
    "ES = energy(state)\n",
    "print(ES)"
   ]
  },
  {
   "cell_type": "code",
   "execution_count": 33,
   "metadata": {},
   "outputs": [
    {
     "name": "stdout",
     "output_type": "stream",
     "text": [
      "Magnetization: 4.0\n",
      "Internal Energy: -4.000000000000001\n"
     ]
    }
   ],
   "source": [
    "img = Image.new(\"RGB\",(500,500),(255,255,255))\n",
    "pixTuple1 = (10,10,10)\n",
    "pixTuple2 = (240,240,240)\n",
    "  \n",
    "\n",
    "for c in range (0,494):\n",
    "    if c%5 == 0:\n",
    "        \n",
    "        for d in range(0,99):\n",
    "            if state[d] == 1:\n",
    "                for i in range(5*d,5*d+4):\n",
    "                    for j in range(c,c+4):\n",
    "                        img.putpixel((i,j),pixTuple2)\n",
    "            elif state[d] == -1:\n",
    "                for i in range(5*d,5*d+4):\n",
    "                    for j in range(c,c+4):\n",
    "                        img.putpixel((i,j),pixTuple1)\n",
    "   \n",
    "                        \n",
    "                        \n",
    "                        \n",
    "                        \n",
    "                        \n",
    "    test = np.array(state)\n",
    "    r = int(N*random.random())\n",
    "    test[r] *= -1\n",
    "    ET = energy(test)\n",
    "    \n",
    "    p = np.exp ((ES-ET)/(k*T))\n",
    "    if p >= random.random():\n",
    "        \n",
    "        state = np.array(test)\n",
    "        ES = ET\n",
    "    if c%5 == 0:\n",
    "        U[int(c/5)] = ES\n",
    "    \n",
    "\n",
    "        \n",
    "        \n",
    "img.save(\"bb.png\")\n",
    "\n",
    "sum1 = sum(state)\n",
    "print('Magnetization:',sum1)\n",
    "print('Internal Energy:',ES)"
   ]
  },
  {
   "cell_type": "code",
   "execution_count": 34,
   "metadata": {},
   "outputs": [
    {
     "data": {
      "image/png": "[encoded data removed]",
      "text/plain": [
       "<Figure size 432x288 with 1 Axes>"
      ]
     },
     "metadata": {
      "needs_background": "light"
     },
     "output_type": "display_data"
    }
   ],
   "source": [
    "#print(U)\n",
    "plt.plot(t,U)\n",
    "plt.show()"
   ]
  },
  {
   "cell_type": "code",
   "execution_count": null,
   "metadata": {},
   "outputs": [],
   "source": []
  },
  {
   "cell_type": "code",
   "execution_count": null,
   "metadata": {},
   "outputs": [],
   "source": []
  }
 ],
 "metadata": {
  "kernelspec": {
   "display_name": "Python 3",
   "language": "python",
   "name": "python3"
  },
  "language_info": {
   "codemirror_mode": {
    "name": "ipython",
    "version": 3
   },
   "file_extension": ".py",
   "mimetype": "text/x-python",
   "name": "python",
   "nbconvert_exporter": "python",
   "pygments_lexer": "ipython3",
   "version": "3.7.1"
  }
 },
 "nbformat": 4,
 "nbformat_minor": 2
}
